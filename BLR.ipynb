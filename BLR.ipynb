{
  "nbformat": 4,
  "nbformat_minor": 0,
  "metadata": {
    "colab": {
      "name": "BLR.ipynb",
      "provenance": []
    },
    "kernelspec": {
      "name": "python3",
      "display_name": "Python 3"
    }
  },
  "cells": [
    {
      "cell_type": "code",
      "metadata": {
        "id": "3ich5r8ydXHw",
        "colab_type": "code",
        "colab": {}
      },
      "source": [
        "import pandas as pd\n",
        "import numpy as np\n",
        "from sklearn import linear_model\n",
        "from sklearn.datasets import load_boston  \n",
        "from sklearn.model_selection import train_test_split\n"
      ],
      "execution_count": 0,
      "outputs": []
    },
    {
      "cell_type": "code",
      "metadata": {
        "id": "8My38QgldkGy",
        "colab_type": "code",
        "colab": {
          "base_uri": "https://localhost:8080/",
          "height": 102
        },
        "outputId": "8460d699-f164-48d8-d854-aca551af3a6f"
      },
      "source": [
        "dataset = load_boston()\n",
        "df_x = pd.DataFrame(dataset.data, columns = dataset.feature_names)\n",
        "df_y = pd.DataFrame(dataset.target)\n",
        "\n",
        "reg = linear_model.LinearRegression()\n",
        "x_train, x_test, y_train, y_test = train_test_split(df_x,df_y, train_size=0.2)\n",
        "\n",
        "reg.fit(x_train,y_train)\n",
        "\n",
        "reg.coef_"
      ],
      "execution_count": 28,
      "outputs": [
        {
          "output_type": "execute_result",
          "data": {
            "text/plain": [
              "array([[-1.80080371e-01,  1.62985818e-02,  4.71319717e-02,\n",
              "        -4.67920177e-01, -3.31924036e+01,  3.10005319e+00,\n",
              "         2.47781433e-02, -2.34284619e+00,  4.71164447e-01,\n",
              "        -1.39789990e-02, -1.38954437e+00,  3.17083067e-03,\n",
              "        -7.14667180e-01]])"
            ]
          },
          "metadata": {
            "tags": []
          },
          "execution_count": 28
        }
      ]
    },
    {
      "cell_type": "code",
      "metadata": {
        "id": "VncyD7F1fcLk",
        "colab_type": "code",
        "colab": {
          "base_uri": "https://localhost:8080/",
          "height": 34
        },
        "outputId": "b0fbbaef-0ecf-42fa-bce6-8771342f54bb"
      },
      "source": [
        "a = reg.predict(x_test)\n",
        "a[0]"
      ],
      "execution_count": 29,
      "outputs": [
        {
          "output_type": "execute_result",
          "data": {
            "text/plain": [
              "array([20.5867592])"
            ]
          },
          "metadata": {
            "tags": []
          },
          "execution_count": 29
        }
      ]
    },
    {
      "cell_type": "code",
      "metadata": {
        "id": "liRj1sPVmmaZ",
        "colab_type": "code",
        "colab": {
          "base_uri": "https://localhost:8080/",
          "height": 221
        },
        "outputId": "35cb506e-d0c1-4e87-dde7-fac29cad16fc"
      },
      "source": [
        "y_test[0]"
      ],
      "execution_count": 30,
      "outputs": [
        {
          "output_type": "execute_result",
          "data": {
            "text/plain": [
              "339    19.0\n",
              "398     5.0\n",
              "489     7.0\n",
              "117    19.2\n",
              "93     25.0\n",
              "       ... \n",
              "503    23.9\n",
              "72     22.8\n",
              "392     9.7\n",
              "348    24.5\n",
              "77     20.8\n",
              "Name: 0, Length: 405, dtype: float64"
            ]
          },
          "metadata": {
            "tags": []
          },
          "execution_count": 30
        }
      ]
    },
    {
      "cell_type": "code",
      "metadata": {
        "id": "xbyaCXW3mx7X",
        "colab_type": "code",
        "colab": {
          "base_uri": "https://localhost:8080/",
          "height": 51
        },
        "outputId": "328384a5-2b06-4966-ec6f-7170144838f5"
      },
      "source": [
        "#mean square error\n",
        "np.mean((a-y_test)**2)"
      ],
      "execution_count": 31,
      "outputs": [
        {
          "output_type": "execute_result",
          "data": {
            "text/plain": [
              "0    26.776326\n",
              "dtype: float64"
            ]
          },
          "metadata": {
            "tags": []
          },
          "execution_count": 31
        }
      ]
    }
  ]
}